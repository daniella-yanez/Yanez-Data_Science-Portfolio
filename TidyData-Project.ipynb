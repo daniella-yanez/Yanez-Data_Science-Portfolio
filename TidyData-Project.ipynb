{
 "cells": [
  {
   "cell_type": "markdown",
   "id": "1029723f-1857-47fa-8b64-458697b75049",
   "metadata": {},
   "source": [
    "\n",
    "# Introduction\n",
    "## This dataset contains Olympic medalist data from 2008. Initially, it is messy and requires cleaning. Below, we examine its structure before tidying.\n"
   ]
  },
  {
   "cell_type": "markdown",
   "id": "1b2abb23-a72d-41b2-bd75-7cabbfb6a528",
   "metadata": {},
   "source": [
    "#### Set-up"
   ]
  },
  {
   "cell_type": "code",
   "execution_count": 8,
   "id": "46ebf96b-366e-4da9-b261-5e5f26c80d9c",
   "metadata": {},
   "outputs": [],
   "source": [
    "import pandas as pd\n",
    "import seaborn as sns\n",
    "import matplotlib.pyplot as plt"
   ]
  },
  {
   "cell_type": "markdown",
   "id": "4a76c73f-fdbf-4d61-881d-9443a80ef97f",
   "metadata": {},
   "source": [
    "#### Loading and Inspecting Data"
   ]
  },
  {
   "cell_type": "code",
   "execution_count": 22,
   "id": "84f90e94-c6bb-46f9-806c-e5a2decaa4ec",
   "metadata": {},
   "outputs": [
    {
     "ename": "FileNotFoundError",
     "evalue": "[Errno 2] No such file or directory: 'olympics_08_medalists.csv'",
     "output_type": "error",
     "traceback": [
      "\u001b[0;31m---------------------------------------------------------------------------\u001b[0m",
      "\u001b[0;31mFileNotFoundError\u001b[0m                         Traceback (most recent call last)",
      "Cell \u001b[0;32mIn[22], line 2\u001b[0m\n\u001b[1;32m      1\u001b[0m file_path \u001b[38;5;241m=\u001b[39m \u001b[38;5;124m'\u001b[39m\u001b[38;5;124molympics_08_medalists.csv\u001b[39m\u001b[38;5;124m'\u001b[39m\n\u001b[0;32m----> 2\u001b[0m df_ \u001b[38;5;241m=\u001b[39m pd\u001b[38;5;241m.\u001b[39mread_csv(file_path)\n\u001b[1;32m      4\u001b[0m display(df\u001b[38;5;241m.\u001b[39mhead())\n\u001b[1;32m      5\u001b[0m \u001b[38;5;28mprint\u001b[39m(\u001b[38;5;124m\"\u001b[39m\u001b[38;5;124mLet\u001b[39m\u001b[38;5;124m'\u001b[39m\u001b[38;5;124ms fix it!\u001b[39m\u001b[38;5;124m\"\u001b[39m)\n",
      "File \u001b[0;32m~/anaconda3/lib/python3.11/site-packages/pandas/io/parsers/readers.py:912\u001b[0m, in \u001b[0;36mread_csv\u001b[0;34m(filepath_or_buffer, sep, delimiter, header, names, index_col, usecols, dtype, engine, converters, true_values, false_values, skipinitialspace, skiprows, skipfooter, nrows, na_values, keep_default_na, na_filter, verbose, skip_blank_lines, parse_dates, infer_datetime_format, keep_date_col, date_parser, date_format, dayfirst, cache_dates, iterator, chunksize, compression, thousands, decimal, lineterminator, quotechar, quoting, doublequote, escapechar, comment, encoding, encoding_errors, dialect, on_bad_lines, delim_whitespace, low_memory, memory_map, float_precision, storage_options, dtype_backend)\u001b[0m\n\u001b[1;32m    899\u001b[0m kwds_defaults \u001b[38;5;241m=\u001b[39m _refine_defaults_read(\n\u001b[1;32m    900\u001b[0m     dialect,\n\u001b[1;32m    901\u001b[0m     delimiter,\n\u001b[0;32m   (...)\u001b[0m\n\u001b[1;32m    908\u001b[0m     dtype_backend\u001b[38;5;241m=\u001b[39mdtype_backend,\n\u001b[1;32m    909\u001b[0m )\n\u001b[1;32m    910\u001b[0m kwds\u001b[38;5;241m.\u001b[39mupdate(kwds_defaults)\n\u001b[0;32m--> 912\u001b[0m \u001b[38;5;28;01mreturn\u001b[39;00m _read(filepath_or_buffer, kwds)\n",
      "File \u001b[0;32m~/anaconda3/lib/python3.11/site-packages/pandas/io/parsers/readers.py:577\u001b[0m, in \u001b[0;36m_read\u001b[0;34m(filepath_or_buffer, kwds)\u001b[0m\n\u001b[1;32m    574\u001b[0m _validate_names(kwds\u001b[38;5;241m.\u001b[39mget(\u001b[38;5;124m\"\u001b[39m\u001b[38;5;124mnames\u001b[39m\u001b[38;5;124m\"\u001b[39m, \u001b[38;5;28;01mNone\u001b[39;00m))\n\u001b[1;32m    576\u001b[0m \u001b[38;5;66;03m# Create the parser.\u001b[39;00m\n\u001b[0;32m--> 577\u001b[0m parser \u001b[38;5;241m=\u001b[39m TextFileReader(filepath_or_buffer, \u001b[38;5;241m*\u001b[39m\u001b[38;5;241m*\u001b[39mkwds)\n\u001b[1;32m    579\u001b[0m \u001b[38;5;28;01mif\u001b[39;00m chunksize \u001b[38;5;129;01mor\u001b[39;00m iterator:\n\u001b[1;32m    580\u001b[0m     \u001b[38;5;28;01mreturn\u001b[39;00m parser\n",
      "File \u001b[0;32m~/anaconda3/lib/python3.11/site-packages/pandas/io/parsers/readers.py:1407\u001b[0m, in \u001b[0;36mTextFileReader.__init__\u001b[0;34m(self, f, engine, **kwds)\u001b[0m\n\u001b[1;32m   1404\u001b[0m     \u001b[38;5;28mself\u001b[39m\u001b[38;5;241m.\u001b[39moptions[\u001b[38;5;124m\"\u001b[39m\u001b[38;5;124mhas_index_names\u001b[39m\u001b[38;5;124m\"\u001b[39m] \u001b[38;5;241m=\u001b[39m kwds[\u001b[38;5;124m\"\u001b[39m\u001b[38;5;124mhas_index_names\u001b[39m\u001b[38;5;124m\"\u001b[39m]\n\u001b[1;32m   1406\u001b[0m \u001b[38;5;28mself\u001b[39m\u001b[38;5;241m.\u001b[39mhandles: IOHandles \u001b[38;5;241m|\u001b[39m \u001b[38;5;28;01mNone\u001b[39;00m \u001b[38;5;241m=\u001b[39m \u001b[38;5;28;01mNone\u001b[39;00m\n\u001b[0;32m-> 1407\u001b[0m \u001b[38;5;28mself\u001b[39m\u001b[38;5;241m.\u001b[39m_engine \u001b[38;5;241m=\u001b[39m \u001b[38;5;28mself\u001b[39m\u001b[38;5;241m.\u001b[39m_make_engine(f, \u001b[38;5;28mself\u001b[39m\u001b[38;5;241m.\u001b[39mengine)\n",
      "File \u001b[0;32m~/anaconda3/lib/python3.11/site-packages/pandas/io/parsers/readers.py:1661\u001b[0m, in \u001b[0;36mTextFileReader._make_engine\u001b[0;34m(self, f, engine)\u001b[0m\n\u001b[1;32m   1659\u001b[0m     \u001b[38;5;28;01mif\u001b[39;00m \u001b[38;5;124m\"\u001b[39m\u001b[38;5;124mb\u001b[39m\u001b[38;5;124m\"\u001b[39m \u001b[38;5;129;01mnot\u001b[39;00m \u001b[38;5;129;01min\u001b[39;00m mode:\n\u001b[1;32m   1660\u001b[0m         mode \u001b[38;5;241m+\u001b[39m\u001b[38;5;241m=\u001b[39m \u001b[38;5;124m\"\u001b[39m\u001b[38;5;124mb\u001b[39m\u001b[38;5;124m\"\u001b[39m\n\u001b[0;32m-> 1661\u001b[0m \u001b[38;5;28mself\u001b[39m\u001b[38;5;241m.\u001b[39mhandles \u001b[38;5;241m=\u001b[39m get_handle(\n\u001b[1;32m   1662\u001b[0m     f,\n\u001b[1;32m   1663\u001b[0m     mode,\n\u001b[1;32m   1664\u001b[0m     encoding\u001b[38;5;241m=\u001b[39m\u001b[38;5;28mself\u001b[39m\u001b[38;5;241m.\u001b[39moptions\u001b[38;5;241m.\u001b[39mget(\u001b[38;5;124m\"\u001b[39m\u001b[38;5;124mencoding\u001b[39m\u001b[38;5;124m\"\u001b[39m, \u001b[38;5;28;01mNone\u001b[39;00m),\n\u001b[1;32m   1665\u001b[0m     compression\u001b[38;5;241m=\u001b[39m\u001b[38;5;28mself\u001b[39m\u001b[38;5;241m.\u001b[39moptions\u001b[38;5;241m.\u001b[39mget(\u001b[38;5;124m\"\u001b[39m\u001b[38;5;124mcompression\u001b[39m\u001b[38;5;124m\"\u001b[39m, \u001b[38;5;28;01mNone\u001b[39;00m),\n\u001b[1;32m   1666\u001b[0m     memory_map\u001b[38;5;241m=\u001b[39m\u001b[38;5;28mself\u001b[39m\u001b[38;5;241m.\u001b[39moptions\u001b[38;5;241m.\u001b[39mget(\u001b[38;5;124m\"\u001b[39m\u001b[38;5;124mmemory_map\u001b[39m\u001b[38;5;124m\"\u001b[39m, \u001b[38;5;28;01mFalse\u001b[39;00m),\n\u001b[1;32m   1667\u001b[0m     is_text\u001b[38;5;241m=\u001b[39mis_text,\n\u001b[1;32m   1668\u001b[0m     errors\u001b[38;5;241m=\u001b[39m\u001b[38;5;28mself\u001b[39m\u001b[38;5;241m.\u001b[39moptions\u001b[38;5;241m.\u001b[39mget(\u001b[38;5;124m\"\u001b[39m\u001b[38;5;124mencoding_errors\u001b[39m\u001b[38;5;124m\"\u001b[39m, \u001b[38;5;124m\"\u001b[39m\u001b[38;5;124mstrict\u001b[39m\u001b[38;5;124m\"\u001b[39m),\n\u001b[1;32m   1669\u001b[0m     storage_options\u001b[38;5;241m=\u001b[39m\u001b[38;5;28mself\u001b[39m\u001b[38;5;241m.\u001b[39moptions\u001b[38;5;241m.\u001b[39mget(\u001b[38;5;124m\"\u001b[39m\u001b[38;5;124mstorage_options\u001b[39m\u001b[38;5;124m\"\u001b[39m, \u001b[38;5;28;01mNone\u001b[39;00m),\n\u001b[1;32m   1670\u001b[0m )\n\u001b[1;32m   1671\u001b[0m \u001b[38;5;28;01massert\u001b[39;00m \u001b[38;5;28mself\u001b[39m\u001b[38;5;241m.\u001b[39mhandles \u001b[38;5;129;01mis\u001b[39;00m \u001b[38;5;129;01mnot\u001b[39;00m \u001b[38;5;28;01mNone\u001b[39;00m\n\u001b[1;32m   1672\u001b[0m f \u001b[38;5;241m=\u001b[39m \u001b[38;5;28mself\u001b[39m\u001b[38;5;241m.\u001b[39mhandles\u001b[38;5;241m.\u001b[39mhandle\n",
      "File \u001b[0;32m~/anaconda3/lib/python3.11/site-packages/pandas/io/common.py:859\u001b[0m, in \u001b[0;36mget_handle\u001b[0;34m(path_or_buf, mode, encoding, compression, memory_map, is_text, errors, storage_options)\u001b[0m\n\u001b[1;32m    854\u001b[0m \u001b[38;5;28;01melif\u001b[39;00m \u001b[38;5;28misinstance\u001b[39m(handle, \u001b[38;5;28mstr\u001b[39m):\n\u001b[1;32m    855\u001b[0m     \u001b[38;5;66;03m# Check whether the filename is to be opened in binary mode.\u001b[39;00m\n\u001b[1;32m    856\u001b[0m     \u001b[38;5;66;03m# Binary mode does not support 'encoding' and 'newline'.\u001b[39;00m\n\u001b[1;32m    857\u001b[0m     \u001b[38;5;28;01mif\u001b[39;00m ioargs\u001b[38;5;241m.\u001b[39mencoding \u001b[38;5;129;01mand\u001b[39;00m \u001b[38;5;124m\"\u001b[39m\u001b[38;5;124mb\u001b[39m\u001b[38;5;124m\"\u001b[39m \u001b[38;5;129;01mnot\u001b[39;00m \u001b[38;5;129;01min\u001b[39;00m ioargs\u001b[38;5;241m.\u001b[39mmode:\n\u001b[1;32m    858\u001b[0m         \u001b[38;5;66;03m# Encoding\u001b[39;00m\n\u001b[0;32m--> 859\u001b[0m         handle \u001b[38;5;241m=\u001b[39m \u001b[38;5;28mopen\u001b[39m(\n\u001b[1;32m    860\u001b[0m             handle,\n\u001b[1;32m    861\u001b[0m             ioargs\u001b[38;5;241m.\u001b[39mmode,\n\u001b[1;32m    862\u001b[0m             encoding\u001b[38;5;241m=\u001b[39mioargs\u001b[38;5;241m.\u001b[39mencoding,\n\u001b[1;32m    863\u001b[0m             errors\u001b[38;5;241m=\u001b[39merrors,\n\u001b[1;32m    864\u001b[0m             newline\u001b[38;5;241m=\u001b[39m\u001b[38;5;124m\"\u001b[39m\u001b[38;5;124m\"\u001b[39m,\n\u001b[1;32m    865\u001b[0m         )\n\u001b[1;32m    866\u001b[0m     \u001b[38;5;28;01melse\u001b[39;00m:\n\u001b[1;32m    867\u001b[0m         \u001b[38;5;66;03m# Binary mode\u001b[39;00m\n\u001b[1;32m    868\u001b[0m         handle \u001b[38;5;241m=\u001b[39m \u001b[38;5;28mopen\u001b[39m(handle, ioargs\u001b[38;5;241m.\u001b[39mmode)\n",
      "\u001b[0;31mFileNotFoundError\u001b[0m: [Errno 2] No such file or directory: 'olympics_08_medalists.csv'"
     ]
    }
   ],
   "source": [
    "file_path = 'olympics_08_medalists.csv'\n",
    "df_ = pd.read_csv(file_path)\n",
    "df\n",
    "display(df.head())\n",
    "print(\"Let's fix it!\")\n",
    "\n"
   ]
  },
  {
   "cell_type": "markdown",
   "id": "e9cbfb0a-f643-4803-8974-06b74b4c1ae8",
   "metadata": {},
   "source": [
    "#### Loading and Inspecting Data cont..."
   ]
  },
  {
   "cell_type": "code",
   "execution_count": null,
   "id": "1d8b6810-21ef-404b-8980-308117eee25d",
   "metadata": {},
   "outputs": [],
   "source": [
    "print(\"\\nData, Column, etc Dataset Info:\")\n",
    "df.info()\n"
   ]
  },
  {
   "cell_type": "markdown",
   "id": "79ed12be-6627-4bae-877f-670fd762c2b6",
   "metadata": {},
   "source": [
    "#### Loading and Inspecting Data cont...\n"
   ]
  },
  {
   "cell_type": "code",
   "execution_count": null,
   "id": "e1fbebe5-5128-4a53-8b25-ea855ed73444",
   "metadata": {},
   "outputs": [],
   "source": [
    "print(\"\\nBelow are Missing Values in the Dataset:\")\n",
    "print(df.isnull().sum())"
   ]
  },
  {
   "cell_type": "markdown",
   "id": "5a49f6ef-6428-492a-b5b6-7c6f4bbfc626",
   "metadata": {},
   "source": [
    "## Tidying Data"
   ]
  },
  {
   "cell_type": "markdown",
   "id": "37aa27ea-ae93-4e24-aa1e-77f88132e549",
   "metadata": {},
   "source": [
    "## Reshaping the dataset to follow tidy data principles\n",
    "\n",
    "id_vars = \"medalist_name\" → These are the unique identifiers that stay fixed.\n",
    "var_name = \"Event_Gender\" → This column combines the event type and gender.\n",
    "value_name = \"Medal\" → This contains the medal type for each observation."
   ]
  },
  {
   "cell_type": "code",
   "execution_count": null,
   "id": "4779e64e-c88e-4d01-9579-e9aa25a6f494",
   "metadata": {},
   "outputs": [],
   "source": [
    "#resharping and organizing data\n",
    "#id_vars = names\n",
    "#values = medal type, gender, sport/event\n",
    "#observations = each individual\n",
    "df_tidy = (\n",
    "    df\n",
    "    .drop_duplicates()\n",
    "    .melt(id_vars=[\"medalist_name\"], \n",
    "        var_name=\"Event_Gender\", \n",
    "        value_name=\"Medal\")\n",
    "    \n",
    ")\n",
    "\n",
    "# Remove empty values \n",
    "df_tidy = df_tidy.dropna()\n",
    "\n",
    "df_tidy = df_tidy[df_tidy[\"Medal\"] != \"\"]\n",
    "#Removed EMPTY SPACES, particularly for medals since not every medalist received an award for every event\n",
    "\n",
    "# Make event and gender own variables; Separate Event and Gender instead of doing str.split and str.replace\n",
    "df_tidy[['Gender', 'Sport']] = df_tidy[\"Event_Gender\"].str.extract(r'(\\w+)_(.+)')\n",
    "\n",
    "# Reorder and clean columns\n",
    "df_tidy = df_tidy[['medalist_name', 'Sport', 'Gender', 'Medal']].sort_values(by=[\"Sport\", \"Medal\"])\n",
    "medal_order = [\"bronze\", \"silver\", \"gold\"]\n",
    "df_tidy[\"Medal\"] = pd.Categorical(df_tidy[\"Medal\"], categories=medal_order, ordered=True)\n",
    "df_tidy = df_tidy.sort_values(by=[\"Sport\", \"Medal\"])\n",
    "\n",
    "# Save cleaned dataset\n",
    "df_tidy.to_csv(\"tidy_olympics_08_medalists.csv\", index=False)\n",
    "\n",
    "df_tidy.head()\n",
    "df_tidy = df_tidy.sort_values(by=[\"Sport\", \"Medal\"])\n",
    "\n",
    "# Save cleaned dataset\n",
    "df_tidy.to_csv(\"tidy_olympics_08_medalists.csv\", index=False)\n",
    "\n",
    "df_tidy.head()\n",
    "\n"
   ]
  },
  {
   "cell_type": "markdown",
   "id": "48d780f6-efec-4f69-b46b-3e1238477e13",
   "metadata": {},
   "source": [
    "### Variables need to have their own column\n",
    "#### Our Variables: 1. Sport/Event, 2. Medal Tyle, 3. Gender"
   ]
  },
  {
   "cell_type": "code",
   "execution_count": null,
   "id": "f1578bce-0e60-457c-8b6e-eb23a3aab496",
   "metadata": {},
   "outputs": [],
   "source": [
    "print(\"Below is a comparison of the components that used to make up the dataset before and after tidying.\")\n",
    "print(\"Before: \")\n",
    "df.info()\n",
    "print(\"After: \")\n",
    "df_tidy.info()\n"
   ]
  },
  {
   "cell_type": "markdown",
   "id": "94d9ddd5-9edb-4964-a1e4-fca72a7ebfc1",
   "metadata": {},
   "source": [
    "# Visuals"
   ]
  },
  {
   "cell_type": "markdown",
   "id": "94feff80-33c0-4e23-bd11-85cf46509b2f",
   "metadata": {},
   "source": [
    "## Visualization 1: Medals won by each Sport"
   ]
  },
  {
   "cell_type": "code",
   "execution_count": null,
   "id": "dde03378-35ca-4c4d-abee-76156775a7f9",
   "metadata": {},
   "outputs": [],
   "source": [
    "plt.figure(figsize=(12,6)) \n",
    "sns.countplot(x='Sport', data=df_tidy, palette='viridis')\n",
    "plt.xticks(rotation=90)  # Rotate labels for readability\n",
    "plt.show()"
   ]
  },
  {
   "cell_type": "markdown",
   "id": "7c05f4e7-be7f-4dc1-b3aa-2713bec5c7b1",
   "metadata": {},
   "source": [
    "## Visualization 2: Medal Distribution by Gender"
   ]
  },
  {
   "cell_type": "code",
   "execution_count": null,
   "id": "7bd7cdf4-3f7f-4866-a3be-55243e88d768",
   "metadata": {
    "scrolled": true
   },
   "outputs": [],
   "source": [
    "heatmap_data = df_tidy.pivot_table(index=\"Gender\", columns=\"Medal\", aggfunc=\"size\", fill_value=0)\n",
    "\n",
    "sns.heatmap(heatmap_data, annot=True, cmap=\"Blues\", fmt=\"d\")\n",
    "plt.title(\"Medal Distribution by Gender\")\n",
    "plt.show()\n"
   ]
  },
  {
   "cell_type": "markdown",
   "id": "f2a84f81-fe4d-4a05-a7bb-d1871b67805f",
   "metadata": {},
   "source": [
    "## Visualization 3: Number of Medals per Sport"
   ]
  },
  {
   "cell_type": "code",
   "execution_count": null,
   "id": "8c0814c7-e934-4f1d-97de-aa72b7d77a4c",
   "metadata": {
    "scrolled": true
   },
   "outputs": [],
   "source": [
    "plt.figure(figsize=(12,6)) \n",
    "sns.countplot(x=\"Sport\", hue=\"Medal\", data=df_tidy, \n",
    "              palette={\"bronze\": \"#CD7F32\", \"silver\": \"#C0C0C0\", \"gold\": \"#FFD700\"})\n",
    "plt.xticks(rotation=90)  # Rotate labels for readability\n",
    "plt.xlabel(\"Sport\")\n",
    "plt.ylabel(\"Medal Count\")\n",
    "plt.title(\"Number of Medals per Sport\")\n",
    "plt.legend(title=\"Medal Type\")\n",
    "plt.show()\n",
    "\n"
   ]
  },
  {
   "cell_type": "markdown",
   "id": "2cb53127-8006-42d5-9249-36a4bd1adcc2",
   "metadata": {},
   "source": [
    "### Pivot Table\n"
   ]
  },
  {
   "cell_type": "code",
   "execution_count": null,
   "id": "a9b13033-0525-4086-8fb2-5737e06ad533",
   "metadata": {},
   "outputs": [],
   "source": [
    "pivot_table = df_tidy.pivot_table(\n",
    "    index=\"Sport\",       # Rows (Index)\n",
    "    columns=\"Gender\",    # Columns (Grouping by Gender)\n",
    "    values=\"Medal\",      # The value being aggregated\n",
    "    aggfunc=\"count\",     # Aggregation function (counting medals)\n",
    "    fill_value=0         # Fill NaNs with 0\n",
    ")\n",
    "\n",
    "\n",
    "print(\"Pivot table of metals obtained by male and female atheltes!\")\n",
    "print(pivot_table)\n",
    "#pivot_table"
   ]
  },
  {
   "cell_type": "markdown",
   "id": "169a06f6-0c17-4bfc-99cc-c705d26b2be2",
   "metadata": {},
   "source": [
    "# _Exploratory Data Analysis_"
   ]
  },
  {
   "cell_type": "code",
   "execution_count": null,
   "id": "e1492da0-e4a1-4259-9b2a-bfa630400248",
   "metadata": {},
   "outputs": [],
   "source": [
    "print(\"Descibing our dataset\")\n",
    "df_tidy.describe()"
   ]
  },
  {
   "cell_type": "code",
   "execution_count": null,
   "id": "47e6308a-7839-4f6b-af8a-c0a8674a12f2",
   "metadata": {},
   "outputs": [],
   "source": [
    "'''\n",
    "Basic Exploratory Data Analysis\n",
    "'''\n",
    "print(\"Since there are a total of 187 medalist names counted and 187 unique medalist names, we can confirm that there are no duplicates.\")\n",
    "print(\"\\nThe heat graph shows that there were more bronze medals awarded than silver or gold. \\nAlso, the heatmap demonstrates that overall, there were more medals distributed to males than females.\")\n",
    "print(\"\\nThe visualizations show that there were more medals given in the athletics sport with the most gold, silver, and bronze than any other sport with more than 50 medals each!\")\n"
   ]
  },
  {
   "cell_type": "markdown",
   "id": "ce26d38c-2a39-4fb9-b5d7-abf9534eefc0",
   "metadata": {},
   "source": []
  },
  {
   "cell_type": "code",
   "execution_count": null,
   "id": "bee00a59-59e1-4e8c-8197-e0b17376b1bd",
   "metadata": {},
   "outputs": [],
   "source": []
  }
 ],
 "metadata": {
  "kernelspec": {
   "display_name": "Python [conda env:base] *",
   "language": "python",
   "name": "conda-base-py"
  },
  "language_info": {
   "codemirror_mode": {
    "name": "ipython",
    "version": 3
   },
   "file_extension": ".py",
   "mimetype": "text/x-python",
   "name": "python",
   "nbconvert_exporter": "python",
   "pygments_lexer": "ipython3",
   "version": "3.11.5"
  }
 },
 "nbformat": 4,
 "nbformat_minor": 5
}
